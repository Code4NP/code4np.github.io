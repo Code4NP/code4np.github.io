{
 "cells": [
  {
   "cell_type": "markdown",
   "metadata": {},
   "source": [
    "---\n",
    "title: \"Intro to Python and Jupyter\"\n",
    "author:\n",
    "  - name: \n",
    "      given: Joseph\n",
    "      family: Egan\n",
    "      non-dropping-particle: M\n",
    "    roles: [original draft, review & editing]\n",
    "    url: \n",
    "    affiliation: Ometa Labs LLC\n",
    "    orcid: \n",
    "categories: []\n",
    "date: \"2024-09-26\"\n",
    "description: \"A task-based introduction into coding with python in the jupyter notebook. This lession teaches how to interact with tsv files to retrieve data and build figures using matplotlib.\"\n",
    "draft: true\n",
    "appendix-cite-as: display\n",
    "funding: \"The author(s) received no funding for this work.\"\n",
    "citation: true\n",
    "\n",
    "---"
   ]
  },
  {
   "cell_type": "markdown",
   "metadata": {},
   "source": [
    "# Jupyter Notebooks\n",
    "\n",
    "## What is a Jupyter Notebook? \n",
    "When people talk about processing scientific data, they rarely mean hitting a button on an automated system and waiting for a finished result. As you work through your hypothesis, you may often find that your question changes based on how the data come together. This is true of scientific coding as well. In practice, you will constantly be designing functions and need to evaluate how well they work - or troubleshoot why it does not run at all. \n",
    "\n",
    "The majority of the tutorials we will be sharing will be written in Python - but that doesn't have to mean that we need to write a python script from scratch. What you are now reading is written in a Jupyter Notebook - a dynamic environment capabile of both processing code, and displaying results in a step-wise fashon. A Jupyter notebook is segmented, allowing you to write a specfic set of instructions in each cell and executing it to see the results without needing to re-run the entire script. From a practical perspective, you can think of a Jupyter notebook as a rapid prototyping sandbox. Once you have code that works as you expect, you can design larger applications that use the scripts you construct to automate a large protion of your processing tasks. \n",
    "\n",
    "## Lesson Objectives: \n",
    "In this notebook, we will cover:\n",
    "- The basics of coding in python\n",
    "- How to read in your data \n",
    "- Python packages (and why you should use them)\n",
    "- Designing your own functions (and why you'll need to)\n",
    "- Generate custom figures for presentations \n",
    "\n",
    "## Lesson Case Study: \n",
    "\n",
    "We will search data from the NPAtlas to determine the number of reports of compounds per genus of bacteria. \n",
    "\n",
    "## Why Python: \n",
    "\n",
    "Python is an incredibly flexible programming language that allows you to design solutions to problems very quickly. Unlike more complex coding languages, you can create variables \"on the fly\" as you need them without declaring them at the very begining of the script. This allows you to pass data through these variables to other processes in a way that can be read easily by other processes. You may hear that python is \"slow\", but speed is rarely the main focus of designing a new tool in python. Because of it's simple structure and easy readability - it is often the go-to language for scientific programming. \n",
    "\n",
    "## Python Data Structures: \n",
    "\n",
    "Python has some in-built structures for data that we will be using to store, sort, and manipulate our data. \n",
    "\n",
    "### Strings, Integers, and Floats\n",
    "\n",
    "The most basic data types we interact with in python are strings, integers, and floats. \n",
    "- Strings can be thought of as text and are surrounded by quotations so that python knows this is the kind of data we mean to provide. \n",
    "- Integers are whole numbers, and can be declared directly\n",
    "- Floats are numbers with decimals. \n",
    "\n",
    "### Variables\n",
    "\n",
    "Variables can be thought of the same in coding as they are in math, physics, or chemistry. Here, we can ascribe an attribute to a variable and call upon it later. Run the cell below by hitting shift+enter to execute the code outlined in the next block. "
   ]
  },
  {
   "cell_type": "code",
   "execution_count": null,
   "metadata": {},
   "outputs": [],
   "source": [
    "answer = 42\n",
    "precise_answer = 42.0\n",
    "name = \"Deep Thought\""
   ]
  },
  {
   "cell_type": "markdown",
   "metadata": {},
   "source": [
    "In the cell above, we declared three new variables using each of the three data types we discussed above. Now, we can recall them at any time by simply declaring them. We can manipulate the data each of these variables contain, or use combinations of these variables to arrive at an answer to a question. \n",
    "\n",
    "### In-built Python Functions: \n",
    "\n",
    "Python contains a number of helpful functions that allow you perform all kinds of tasks and view the results. Basic math functions can be done directly, and you can view the answer by using the in-built  function. There are also tricks that you can use with functions such as combining variables and text in the print function.  "
   ]
  },
  {
   "cell_type": "code",
   "execution_count": null,
   "metadata": {},
   "outputs": [],
   "source": [
    "print(answer)\n",
    "print(precise_answer)\n",
    "print(name, \"says the answer is\", answer)"
   ]
  },
  {
   "cell_type": "markdown",
   "metadata": {},
   "source": [
    "### Manipulating variables\n",
    "The print function is one of python's simplist functions and allows you to view any variable you've declared. In a jupyter notebook, you can call on a variable directly to see what it contains - but this is not something that can be done in python directly. "
   ]
  },
  {
   "cell_type": "code",
   "execution_count": null,
   "metadata": {},
   "outputs": [],
   "source": [
    "answer"
   ]
  },
  {
   "cell_type": "markdown",
   "metadata": {},
   "source": [
    "If we wanted to change the answer, we can perform an operation on it:"
   ]
  },
  {
   "cell_type": "code",
   "execution_count": null,
   "metadata": {},
   "outputs": [],
   "source": [
    "answer - 24"
   ]
  },
  {
   "cell_type": "markdown",
   "metadata": {},
   "source": [
    "Be warned! We didn't tell the system to store the new answer as a variable - so it won't remember what the new answer actually is unless we tell it to remember: "
   ]
  },
  {
   "cell_type": "code",
   "execution_count": null,
   "metadata": {},
   "outputs": [],
   "source": [
    "print(\"The answer is still:\",answer)\n",
    "\n",
    "new_answer = answer - 24\n",
    "\n",
    "print(\"But the new answer is\",new_answer)"
   ]
  },
  {
   "cell_type": "markdown",
   "metadata": {},
   "source": [
    "If you want to see if one value is equal to another, we use two equals signs to tell python to evaluate a statement, rather than declaring a variable. In the example below, if the statement is true, then we will get the answer True - however, we are expecting it to say False. "
   ]
  },
  {
   "cell_type": "code",
   "execution_count": null,
   "metadata": {},
   "outputs": [],
   "source": [
    "answer == new_answer"
   ]
  },
  {
   "cell_type": "markdown",
   "metadata": {},
   "source": [
    "This is very handy for checking to see if something satisfies some conditions we have for data filtration. We can also ask python if the values are NOT equal by using the following: "
   ]
  },
  {
   "cell_type": "code",
   "execution_count": null,
   "metadata": {},
   "outputs": [],
   "source": [
    "answer != new_answer"
   ]
  },
  {
   "cell_type": "markdown",
   "metadata": {},
   "source": [
    "### Lists and Dictionaries: \n",
    "\n",
    "Lists are collections of values or variables that you can use to store information. They can contain strings, integers, floats, and even complex objects - such as other lists. We declare lists with square brackets [] and separate elements of a list with a comma. "
   ]
  },
  {
   "cell_type": "code",
   "execution_count": null,
   "metadata": {},
   "outputs": [],
   "source": [
    "bacteria_genera = [\"Escherichia\", \"Salmonella\", \"Bacillus\", \"Staphylococcus\", \"Streptococcus\",\"Bhurkholderia\"]"
   ]
  },
  {
   "cell_type": "markdown",
   "metadata": {},
   "source": []
  },
  {
   "cell_type": "code",
   "execution_count": null,
   "metadata": {},
   "outputs": [],
   "source": [
    "bacteria_genera.append(\"Clostridium\")\n",
    "print(bacteria_genera)\n",
    "bacteria_genera.remove('Streptococcus')\n",
    "print(bacteria_genera)\n",
    "print('The second entry in our list is:',bacteria_genera[1])"
   ]
  },
  {
   "cell_type": "markdown",
   "metadata": {},
   "source": [
    "If you wanted to interact with a certain element of the list, you can do that by referring to its place in the list (numerically)"
   ]
  },
  {
   "cell_type": "code",
   "execution_count": null,
   "metadata": {},
   "outputs": [],
   "source": [
    "print(\"The first item in the bacteria_genera list is:\",bacteria_genera[0])\n",
    "print(\"The last item in the bacteria_genera list is:\",bacteria_genera[-1])"
   ]
  },
  {
   "cell_type": "markdown",
   "metadata": {},
   "source": [
    "Similar to lists, dictionaries store the values you pass to them - but they are indexed. This means that you can give it a key to remember a value by and quickly retrieve that value by using the key at any time. When creating a dictonary, we provide the keys and values in one step while using the curly brackets to tell python that we are dealing with these data in a dictionary. We use dictionaries to store data for organization and speed of data retrieval. Like using an index in the back of a book - rather than scanning every page - we can quickly find where the data we are looking for is and retrieve it."
   ]
  },
  {
   "cell_type": "code",
   "execution_count": null,
   "metadata": {},
   "outputs": [],
   "source": [
    "isolation_locations = {\"Escherichia\":\"intestine\", \"Salmonella\":\"intestine\", \"Bacillus\":\"soil\", \"Staphylococcus\":\"skin\", \"Streptococcus\":\"throat\",\"Bhurkholderia\":\"soil\"}\n",
    "isolation_locations[\"Escherichia\"]  "
   ]
  },
  {
   "cell_type": "markdown",
   "metadata": {},
   "source": [
    "If you wanted to add a new value to the dictionary, you can do that after it is created by providing a new key and value pair: "
   ]
  },
  {
   "cell_type": "code",
   "execution_count": null,
   "metadata": {},
   "outputs": [],
   "source": [
    "isolation_locations[\"Clostridium\"] = \"soil\"\n",
    "isolation_locations"
   ]
  },
  {
   "cell_type": "markdown",
   "metadata": {},
   "source": [
    "## Exercise 1: \n",
    "Let's say we isolated a new genera from our experiments and wanted to update both the list and dictionary. Add a new genera to the list and update the dictionary with its isolation location: "
   ]
  },
  {
   "cell_type": "code",
   "execution_count": null,
   "metadata": {},
   "outputs": [],
   "source": [
    "### Exercise 1 Workspace: \n",
    "\n"
   ]
  },
  {
   "cell_type": "markdown",
   "metadata": {},
   "source": [
    "## Reading in Data Files\n",
    "\n",
    "Constructing a dictonary or list one element at a time can be useful - but very tedious. Often, we have excel spreadsheets or .csv/.tsv data files that contain the kinds of information we want to interact with. If you haven't worked with a .tsv file before - it is very similar to a .csv except that each value is separated by a tab instead of a comma. Although excel files are very human readable - they're very cumbersome for computation. TSV and CSV files are very efficent, and we can parse them using some in-built python functions. However, because python does not know that we will interact with a tsv or csv file, it has all of the functions we need to use tucked away to be more efficient. We can tell python to import this package so that we can fetch the data. \n",
    "\n",
    "We will use a data file from the NP Atlas to construct a new list of bacteria that are relevant for natural product drug discovery. For that, let's focus only on the genera reported for each compound's initial discovery: "
   ]
  },
  {
   "cell_type": "code",
   "execution_count": null,
   "metadata": {},
   "outputs": [],
   "source": [
    "import csv \n",
    "\n",
    "with open('NPAtlas_download.tsv', 'r') as file:\n",
    "\tline_reader = csv.reader(file, delimiter='\\t')\n",
    "\theaders = next(line_reader)\n",
    "print(headers)"
   ]
  },
  {
   "cell_type": "markdown",
   "metadata": {},
   "source": [
    "You may notice that none of the headers contain spaces. This is because certain types of functions and files do not behave very well with spaces and it is usually best practice to use an underscore instead. For our task, two headers are going to be very important: \"origin_type\" and \"genus\"\n",
    "\n",
    "It is possible to use the csv package to parse all these data and populate a new list of genera that we can focus on. The csv file reader works on a line-by-line basis. It reads the lines we tell it (typically, every line) one at a time, fetches the data, and we can use it. Let's construct a list of all of the genera contained in the NPAtlas: "
   ]
  },
  {
   "cell_type": "code",
   "execution_count": null,
   "metadata": {},
   "outputs": [],
   "source": [
    "np_atlas_genera = []\n",
    "\n",
    "with open('NPAtlas_download.tsv', 'r') as file:\n",
    "\tline_reader = csv.reader(file, delimiter='\\t')\n",
    "\tfor each_row in line_reader:\n",
    "\t\tnp_atlas_genera.append(each_row[14]) #this adds the 15th column of the each record to the list, which is the genus column - the very first column is 0\n",
    "print(np_atlas_genera)\n",
    "\n"
   ]
  },
  {
   "cell_type": "markdown",
   "metadata": {},
   "source": [
    "You will notice that the first entry in the list is our header - 'genus'. Since we don't care about this, we can filter it out as we construct the list. Also, because a list doesn't care about repeated values, we have *MANY* duplicates in our list. Let's filter out duplicates at the end by converting our list to a set(). A set behaves very closely to a list, but you can only have each value in a set once. "
   ]
  },
  {
   "cell_type": "code",
   "execution_count": null,
   "metadata": {},
   "outputs": [],
   "source": [
    "np_atlas_genera = []\n",
    "\n",
    "with open('NPAtlas_download.tsv', 'r') as file:\n",
    "\tline_reader = csv.reader(file, delimiter='\\t')\n",
    "\theaders = next(line_reader) # read in the column headers so that we know we can skip adding it to the list\n",
    "\tfor each_row in line_reader:\n",
    "\t\tif each_row[14] not in headers: # exclude the header value (hint: you can also use )\n",
    "\t\t\tnp_atlas_genera.append(each_row[14]) #this adds the 15th column of the each record to the list, which is the genus column - Remember: the very first column is 0\n",
    "\n",
    "print('The NPAtlas database contains',len(np_atlas_genera),'genera from bacteria, fungi, and archaea.')\n",
    "\n",
    "np_atlas_set = set(np_atlas_genera)\n",
    "\n",
    "print('After removing duplicate values, there are',len(np_atlas_set),'unique genera in the NPAtlas dataset.')\n"
   ]
  },
  {
   "cell_type": "markdown",
   "metadata": {},
   "source": [
    "## Exercise 2: \n",
    "\n",
    "If we only wanted the genera of bacteria to be added to our list of bacteria_genera - how can you alter the function above? \n",
    "\n"
   ]
  },
  {
   "cell_type": "code",
   "execution_count": null,
   "metadata": {},
   "outputs": [],
   "source": [
    "## Exercise 2 Workspace:\n"
   ]
  },
  {
   "cell_type": "code",
   "execution_count": null,
   "metadata": {},
   "outputs": [],
   "source": []
  },
  {
   "cell_type": "markdown",
   "metadata": {},
   "source": [
    "To see the solution to this excercise, remove the # at the begining of the next line and run the cell. "
   ]
  },
  {
   "cell_type": "code",
   "execution_count": null,
   "metadata": {},
   "outputs": [],
   "source": [
    "# %load ./exercise_solutions/exercise_2.py"
   ]
  },
  {
   "cell_type": "markdown",
   "metadata": {},
   "source": []
  },
  {
   "cell_type": "markdown",
   "metadata": {},
   "source": []
  }
 ],
 "metadata": {
  "kernelspec": {
   "display_name": "base",
   "language": "python",
   "name": "python3"
  },
  "language_info": {
   "codemirror_mode": {
    "name": "ipython",
    "version": 3
   },
   "file_extension": ".py",
   "mimetype": "text/x-python",
   "name": "python",
   "nbconvert_exporter": "python",
   "pygments_lexer": "ipython3",
   "version": "3.9.13"
  },
  "orig_nbformat": 4
 },
 "nbformat": 4,
 "nbformat_minor": 2
}
